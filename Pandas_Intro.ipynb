{
 "cells": [
  {
   "cell_type": "markdown",
   "metadata": {},
   "source": [
    "# Pandas Intro"
   ]
  },
  {
   "cell_type": "markdown",
   "metadata": {},
   "source": [
    "## Table of Contents\n",
    "\n",
    "* [1. Pandas](#1.-Pandas)\n",
    "\n",
    "\n",
    "* [2. Data Structures](#2.-Data-Structures)\n",
    "    * [2.1 Series](#2.1-Series)\n",
    "    * [2.2 DataFrame](#2.2-DataFrame)\n",
    "    \n",
    "\n",
    "* [3. Further Reading](#3.-Further-Reading)\n",
    "\n",
    "\n",
    "* [4. Answers](#4.-Answers)\n",
    "    * [4.1 Reference Implementations](#4.1-Reference-Implementations)"
   ]
  },
  {
   "cell_type": "markdown",
   "metadata": {},
   "source": [
    "## 1. Pandas\n",
    "\n",
    "This notebook is a tour of the [pandas](http://pandas.pydata.org/) library.  Pandas is an open-source Python library that gives you fast and easy-to-use data structures and analysis tools.  \n",
    "\n",
    "We'll be using pandas throughout this class, so let's work through this notebook to familiarize ourselves with the basics.  If you aren't familiar with Jupyter notebooks, take a look at this [5 minute tutorial](https://compsci697l.github.io/notes/jupyter-tutorial/)."
   ]
  },
  {
   "cell_type": "markdown",
   "metadata": {},
   "source": [
    "## 2. Data Structures\n",
    "\n",
    "The pandas library is built around two primary data structures: `Series` and `DataFrames`. \n",
    "\n",
    "### 2.1 Series\n",
    "\n",
    "A [`Series`](http://pandas.pydata.org/pandas-docs/stable/dsintro.html#series) is a lot like a Python list, but with some added functionality.  If you create a `Series` from a plain Python list, you'll get the 0-indexed structure that you expect (Note: in Jupyter Notebooks, press Shift+Enter to execute a block):"
   ]
  },
  {
   "cell_type": "code",
   "execution_count": null,
   "metadata": {},
   "outputs": [],
   "source": [
    "# Import pandas and define helper functions\n",
    "import pandas as pd\n",
    "\n",
    "def about_equals(val1, val2):\n",
    "    e = .00001\n",
    "    if abs(val1-val2) > e:\n",
    "        raise Exception('{} is not about equal to {}'.format(val1, val2))"
   ]
  },
  {
   "cell_type": "code",
   "execution_count": null,
   "metadata": {},
   "outputs": [],
   "source": [
    "example_series = pd.Series([1,2,3,\"foo\", \"bar\"])\n",
    "print(example_series[0])\n",
    "print(example_series[4])"
   ]
  },
  {
   "cell_type": "markdown",
   "metadata": {},
   "source": [
    "One cool `Series` feature is that you can use string indices instead of integer indices:"
   ]
  },
  {
   "cell_type": "code",
   "execution_count": null,
   "metadata": {},
   "outputs": [],
   "source": [
    "wins = pd.Series([93,91,80,76,75], index=[\"Red Sox\", \"Yankees\", \"Rays\", \"Jays\", \"Orioles\"])"
   ]
  },
  {
   "cell_type": "markdown",
   "metadata": {},
   "source": [
    "A `Series` with string index has a nice mix of list-like and dictionary-like properties:"
   ]
  },
  {
   "cell_type": "code",
   "execution_count": null,
   "metadata": {},
   "outputs": [],
   "source": [
    "# Integer indexing\n",
    "index_0_wins = wins[0]\n",
    "print(\"Wins at index 0: {}\".format(index_0_wins))\n",
    "print()\n",
    "\n",
    "# String indexing\n",
    "red_sox_wins = wins[\"Red Sox\"]\n",
    "print(\"Red Sox wins: {}\".format(red_sox_wins))\n",
    "print()\n",
    "\n",
    "# Index multiple\n",
    "red_sox_yankees_wins = wins[[\"Yankees\", \"Red Sox\"]]\n",
    "print(\"Multiple indexing:\")\n",
    "print(red_sox_yankees_wins)\n",
    "print()\n",
    "\n",
    "# Inclusion\n",
    "contains_red_sox = \"Red Sox\" in wins\n",
    "contains_giants = \"Giants\" in wins\n",
    "print(\"Contains Red Sox?: {}\".format(contains_red_sox))\n",
    "print(\"Contains Giants?: {}\".format(contains_giants))"
   ]
  },
  {
   "cell_type": "markdown",
   "metadata": {},
   "source": [
    "You can also initialize a `Series` with a Python dictionary:"
   ]
  },
  {
   "cell_type": "code",
   "execution_count": null,
   "metadata": {},
   "outputs": [],
   "source": [
    "wins = pd.Series({\"Red Sox\": 93, \"Yankees\": 91, \"Rays\": 80, \"Jays\": 76, \"Orioles\": 75})"
   ]
  },
  {
   "cell_type": "markdown",
   "metadata": {},
   "source": [
    "A `Series` comes with a bunch of convenient built-in analysis functions:"
   ]
  },
  {
   "cell_type": "code",
   "execution_count": null,
   "metadata": {},
   "outputs": [],
   "source": [
    "median = wins.median()\n",
    "mean = wins.mean()\n",
    "std_dev = wins.std()\n",
    "\n",
    "print('Median wins: {}'.format(median))\n",
    "print('Mean wins: {}'.format(mean))\n",
    "print('Standard deviation: {}'.format(std_dev))\n",
    "print()\n",
    "\n",
    "# Or just describe() get a quick summary\n",
    "wins.describe()"
   ]
  },
  {
   "cell_type": "markdown",
   "metadata": {},
   "source": [
    "[Feature scaling](https://en.wikipedia.org/wiki/Feature_scaling) is a technique used in data analysis to standardize the range of a variable.  It is calculated as follows:\n",
    "\n",
    "$$\n",
    "\\frac{x - x_{min}}{x_{max}-x_{min}}\n",
    "$$\n",
    "\n",
    "Now, try to calculate `scaled_wins` by applying feature scaling to the `wins` `Series`.  "
   ]
  },
  {
   "cell_type": "code",
   "execution_count": null,
   "metadata": {},
   "outputs": [],
   "source": [
    "scaled_wins = None # Implement your code to calculate scaled_wins here"
   ]
  },
  {
   "cell_type": "markdown",
   "metadata": {},
   "source": [
    "Run the following block to see if you calculated `scaled_wins` correctly. If you get stuck, check out the [reference implementation](#Feature-Scaling)."
   ]
  },
  {
   "cell_type": "code",
   "execution_count": null,
   "metadata": {},
   "outputs": [],
   "source": [
    "# Check scaled_wins\n",
    "about_equals(scaled_wins['Orioles'], 0.0)\n",
    "about_equals(scaled_wins['Jays'], 0.0555555)\n",
    "about_equals(scaled_wins['Rays'], 0.2777777)\n",
    "about_equals(scaled_wins['Yankees'], 0.8888888)\n",
    "about_equals(scaled_wins['Red Sox'], 1.0)"
   ]
  },
  {
   "cell_type": "markdown",
   "metadata": {},
   "source": [
    "One pandas feature that can be confusing at first is boolean indexing.  Once you get used to it, however, boolean indexing allows for quick and succinct data slicing and dicing.  Check out the following statement that returns only teams with more than 80 wins:"
   ]
  },
  {
   "cell_type": "code",
   "execution_count": null,
   "metadata": {},
   "outputs": [],
   "source": [
    "wins[wins > 80] # All items that are greater than 80"
   ]
  },
  {
   "cell_type": "markdown",
   "metadata": {},
   "source": [
    "Let's break down boolean indexing.  First the less-than operation is applied across the `Series`, producing a new `Series` of booleans."
   ]
  },
  {
   "cell_type": "code",
   "execution_count": null,
   "metadata": {},
   "outputs": [],
   "source": [
    "wins > 80"
   ]
  },
  {
   "cell_type": "markdown",
   "metadata": {},
   "source": [
    "Then we use the indexing operator on the original `Series`.  When passed a boolean `Series`, the indexing operator will return a new `Series` composed of the entries that correspond to True.  Here's another example where we only return teams that had fewer wins than the median:"
   ]
  },
  {
   "cell_type": "code",
   "execution_count": null,
   "metadata": {},
   "outputs": [],
   "source": [
    "wins[wins < wins.median()]"
   ]
  },
  {
   "cell_type": "markdown",
   "metadata": {},
   "source": [
    "Now, try to get all the teams with fewer wins than the Red Sox using boolean indexing.  If you get stuck, check out the [reference implementation](#Boolean-Indexing)."
   ]
  },
  {
   "cell_type": "code",
   "execution_count": null,
   "metadata": {},
   "outputs": [],
   "source": [
    "# Select all teams with fewer wins than the Red Sox"
   ]
  },
  {
   "cell_type": "markdown",
   "metadata": {},
   "source": [
    "Notice also how functions and operators are applied across the `Series` in an intuitive way:"
   ]
  },
  {
   "cell_type": "code",
   "execution_count": null,
   "metadata": {},
   "outputs": [],
   "source": [
    "wins * 2"
   ]
  },
  {
   "cell_type": "code",
   "execution_count": null,
   "metadata": {},
   "outputs": [],
   "source": [
    "wins - wins"
   ]
  },
  {
   "cell_type": "markdown",
   "metadata": {},
   "source": [
    "### 2.2 DataFrame"
   ]
  },
  {
   "cell_type": "markdown",
   "metadata": {},
   "source": [
    "The [`DataFrame`](http://pandas.pydata.org/pandas-docs/stable/dsintro.html#dataframe) is the bread and butter of the pandas library.  It is 2D structure with rows and columns--equivalent to a table in a database or a spreadsheet in Excel.  Alternatively, you can think of it as a collections of pandas `Series` that share an index."
   ]
  },
  {
   "cell_type": "code",
   "execution_count": null,
   "metadata": {},
   "outputs": [],
   "source": [
    "data = {\n",
    "    'Team': ['Red Sox', 'Yankees', 'Rays', 'Jays', 'Orioles'],\n",
    "    'Home Wins': [48, 51, 42, 42, 46],\n",
    "    'Home Losses': [33, 30, 39, 39, 35],\n",
    "    'Away Wins': [45, 40, 38, 34, 29],\n",
    "    'Away Losses': [36, 41, 43, 47, 52],\n",
    "    'Payroll ($MM)': [199.8, 201.5, 70.0, 177.8, 163.7]\n",
    "}\n",
    "\n",
    "pd.DataFrame(data)"
   ]
  },
  {
   "cell_type": "markdown",
   "metadata": {},
   "source": [
    "You can also easily read in a `DataFrame` from a CSV:"
   ]
  },
  {
   "cell_type": "code",
   "execution_count": null,
   "metadata": {},
   "outputs": [],
   "source": [
    "al_east = pd.read_csv('al_east_2017_regular_season.csv').set_index('Team')\n",
    "al_east"
   ]
  },
  {
   "cell_type": "markdown",
   "metadata": {},
   "source": [
    "Pandas provides quite a few functions to read data into a `DataFrame`.  Check out the [documentation](http://pandas.pydata.org/pandas-docs/stable/api.html#input-output) before you write a custom function to make sure your use case isn't supported out of the box. \n",
    "\n",
    "`DataFrames` expose a lot of the same functionality we saw on `Series`.  You can quickly get summaries of the `DataFrame` and the data:"
   ]
  },
  {
   "cell_type": "code",
   "execution_count": null,
   "metadata": {},
   "outputs": [],
   "source": [
    "al_east.dtypes"
   ]
  },
  {
   "cell_type": "code",
   "execution_count": null,
   "metadata": {},
   "outputs": [],
   "source": [
    "al_east.shape  # Index 0 is the row count, index 1 is the column count"
   ]
  },
  {
   "cell_type": "code",
   "execution_count": null,
   "metadata": {},
   "outputs": [],
   "source": [
    "al_east.describe()"
   ]
  },
  {
   "cell_type": "markdown",
   "metadata": {},
   "source": [
    "You can create new columns and perform vector math in an intuitive way.  Try to calculate the home and away win percentage for each team below:"
   ]
  },
  {
   "cell_type": "code",
   "execution_count": null,
   "metadata": {},
   "outputs": [],
   "source": [
    "# Calculate Home and Away win percentages\n",
    "al_east['Home Win Pct'] = 0\n",
    "al_east['Away Win Pct'] = 0"
   ]
  },
  {
   "cell_type": "markdown",
   "metadata": {},
   "source": [
    "Run the following block to check your calculation.  If you get stuck, take a look at the [reference implementation](#Win-Percentage)."
   ]
  },
  {
   "cell_type": "code",
   "execution_count": null,
   "metadata": {},
   "outputs": [],
   "source": [
    "about_equals(al_east['Away Win Pct']['Red Sox'], 0.555555)\n",
    "about_equals(al_east['Away Win Pct']['Orioles'], 0.358024)\n",
    "about_equals(al_east['Home Win Pct']['Yankees'], 0.629629)\n",
    "about_equals(al_east['Home Win Pct']['Jays'], 0.518518)"
   ]
  },
  {
   "cell_type": "markdown",
   "metadata": {},
   "source": [
    "`DataFrame`s  allow you to index multiple columns simultaneously:"
   ]
  },
  {
   "cell_type": "code",
   "execution_count": null,
   "metadata": {},
   "outputs": [],
   "source": [
    "al_east[['Home Wins', 'Home Win Pct']]"
   ]
  },
  {
   "cell_type": "markdown",
   "metadata": {},
   "source": [
    "Boolean indexing still works:"
   ]
  },
  {
   "cell_type": "code",
   "execution_count": null,
   "metadata": {},
   "outputs": [],
   "source": [
    "al_east[al_east['Home Win Pct'] > 0.55]  # All teams that won at home more than 55% of the time"
   ]
  },
  {
   "cell_type": "markdown",
   "metadata": {},
   "source": [
    "Try to select all teams with a payroll over $100MM and a Away Win Percentage less than 50%.  If you get stuck, you can check the [reference implementation](#Boolean-Index-DataFrame)"
   ]
  },
  {
   "cell_type": "code",
   "execution_count": null,
   "metadata": {},
   "outputs": [],
   "source": [
    "# Select all teams with a payroll over $100MM and an Away Win Percentage less than .50"
   ]
  },
  {
   "cell_type": "markdown",
   "metadata": {},
   "source": [
    "To index into a `DataFrame`, you can use `loc` to index into a row and select it as a `Series`:"
   ]
  },
  {
   "cell_type": "code",
   "execution_count": null,
   "metadata": {},
   "outputs": [],
   "source": [
    "al_east.loc['Red Sox']"
   ]
  },
  {
   "cell_type": "markdown",
   "metadata": {},
   "source": [
    "You can also index by an internal 0-based integer index using `iloc`:"
   ]
  },
  {
   "cell_type": "code",
   "execution_count": null,
   "metadata": {},
   "outputs": [],
   "source": [
    "al_east.iloc[0]  # Returns the 0th row"
   ]
  },
  {
   "cell_type": "markdown",
   "metadata": {},
   "source": [
    "And finally, you can index a column as follows:"
   ]
  },
  {
   "cell_type": "code",
   "execution_count": null,
   "metadata": {},
   "outputs": [],
   "source": [
    "al_east['Home Wins']"
   ]
  },
  {
   "cell_type": "markdown",
   "metadata": {},
   "source": [
    "We've just scratched the surface of the power of `Series` and `DataFrames`, but this should give you enough background to follow along with the other notebooks in this class.  Check out the [documentation](http://pandas.pydata.org/pandas-docs/stable/basics.html) for more info on features like:\n",
    "* Data cleaning and handling missing values\n",
    "* Group-by and using the [split-apply-combine strategy of data analysis](https://www.jstatsoft.org/article/view/v040i01)\n",
    "* Merges and Joins\n",
    "* Working with categorical or time series data"
   ]
  },
  {
   "cell_type": "markdown",
   "metadata": {},
   "source": [
    "## 3. Further Reading\n",
    "\n",
    "If your linear algebra is a little rusty, this is a good cheat sheet to review before this course:\n",
    "\n",
    "* [Linear algebra cheat sheet for deep learning](https://medium.com/towards-data-science/linear-algebra-cheat-sheet-for-deep-learning-cd67aba4526c)\n",
    "\n",
    "Here are a few more pandas tutorials you may want to take a look at:\n",
    "\n",
    "* [Greg Reda - Intro to pandas data](http://www.gregreda.com/2013/10/26/intro-to-pandas-data-structures/)\n",
    "* [Greg Reda - Working with DataFrames](http://www.gregreda.com/2013/10/26/working-with-pandas-dataframes/)\n",
    "* [10 Minutes to pandas](http://pandas.pydata.org/pandas-docs/stable/10min.html)\n",
    "\n",
    "\n",
    "## 4. Answers\n"
   ]
  },
  {
   "cell_type": "markdown",
   "metadata": {},
   "source": [
    "### 4.1 Reference Implementations"
   ]
  },
  {
   "cell_type": "markdown",
   "metadata": {},
   "source": [
    "#### Feature Scaling"
   ]
  },
  {
   "cell_type": "code",
   "execution_count": null,
   "metadata": {},
   "outputs": [],
   "source": [
    "scaled_wins = (wins - wins.min())/(wins.max() - wins.min())"
   ]
  },
  {
   "cell_type": "markdown",
   "metadata": {},
   "source": [
    "#### Boolean Indexing"
   ]
  },
  {
   "cell_type": "code",
   "execution_count": null,
   "metadata": {},
   "outputs": [],
   "source": [
    "wins[wins < wins['Red Sox']]"
   ]
  },
  {
   "cell_type": "markdown",
   "metadata": {},
   "source": [
    "#### Win Percentage"
   ]
  },
  {
   "cell_type": "code",
   "execution_count": null,
   "metadata": {},
   "outputs": [],
   "source": [
    "al_east['Home Win Pct'] = al_east['Home Wins']/(al_east['Home Wins'] + al_east['Home Losses'])\n",
    "al_east['Away Win Pct'] = al_east['Away Wins']/(al_east['Away Wins'] + al_east['Away Losses'])"
   ]
  },
  {
   "cell_type": "markdown",
   "metadata": {},
   "source": [
    "#### Boolean Index DataFrame"
   ]
  },
  {
   "cell_type": "code",
   "execution_count": null,
   "metadata": {},
   "outputs": [],
   "source": [
    "al_east[(al_east['Payroll ($MM)'] > 100) & (al_east['Away Win Pct'] < .5)]"
   ]
  }
 ],
 "metadata": {
  "kernelspec": {
   "display_name": "Python 3",
   "language": "python",
   "name": "python3"
  },
  "language_info": {
   "codemirror_mode": {
    "name": "ipython",
    "version": 3
   },
   "file_extension": ".py",
   "mimetype": "text/x-python",
   "name": "python",
   "nbconvert_exporter": "python",
   "pygments_lexer": "ipython3",
   "version": "3.5.2"
  }
 },
 "nbformat": 4,
 "nbformat_minor": 2
}
